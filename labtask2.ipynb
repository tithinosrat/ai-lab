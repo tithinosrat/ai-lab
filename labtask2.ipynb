{
  "nbformat": 4,
  "nbformat_minor": 0,
  "metadata": {
    "colab": {
      "provenance": [],
      "include_colab_link": true
    },
    "kernelspec": {
      "name": "python3",
      "display_name": "Python 3"
    },
    "language_info": {
      "name": "python"
    }
  },
  "cells": [
    {
      "cell_type": "markdown",
      "metadata": {
        "id": "view-in-github",
        "colab_type": "text"
      },
      "source": [
        "<a href=\"https://colab.research.google.com/github/tithinosrat/ai-lab/blob/main/labtask2.ipynb\" target=\"_parent\"><img src=\"https://colab.research.google.com/assets/colab-badge.svg\" alt=\"Open In Colab\"/></a>"
      ]
    },
    {
      "cell_type": "code",
      "execution_count": null,
      "metadata": {
        "id": "H_tw88z6v0Hl"
      },
      "outputs": [],
      "source": [
        "import numpy as np"
      ]
    },
    {
      "cell_type": "code",
      "source": [
        "#1d array\n",
        "arr = np.array([14, 15, 19, 17])\n",
        "print(arr)\n",
        "\n",
        "#2d array\n",
        "arr = np.array([[48, 64, 15], [48, 46, 84]])\n",
        "print(arr)\n",
        "\n",
        "#3D array\n",
        "arr = np.array([[[10, 20, 30], [45, 55, 65]], [[48, 44, 55], [20, 40, 60]]])\n",
        "print(arr)\n",
        "\n",
        "#dimention\n",
        "ar1 = np.array(50)\n",
        "ar2 = np.array([21,31,41])\n",
        "ar3 = np.array([[1, 2, 3], [4, 5, 6]])\n",
        "ar4 = np.array([[[1, 2, 3], [4, 5, 6]], [[7, 8, 9], [10, 11, 12]]])\n",
        "\n",
        "print(ar1.ndim)\n",
        "print(ar2.ndim)\n",
        "print(ar3.ndim)\n",
        "print(ar4.ndim)"
      ],
      "metadata": {
        "colab": {
          "base_uri": "https://localhost:8080/"
        },
        "id": "vDNBGbqTwTSX",
        "outputId": "4438259e-0102-4d98-f1e8-cc1cd9e460ed"
      },
      "execution_count": 5,
      "outputs": [
        {
          "output_type": "stream",
          "name": "stdout",
          "text": [
            "[14 15 19 17]\n",
            "[[48 64 15]\n",
            " [48 46 84]]\n",
            "[[[10 20 30]\n",
            "  [45 55 65]]\n",
            "\n",
            " [[48 44 55]\n",
            "  [20 40 60]]]\n",
            "0\n",
            "1\n",
            "2\n",
            "3\n"
          ]
        }
      ]
    },
    {
      "cell_type": "code",
      "source": [
        "#indexing\n",
        "ar = np.array([1, 2, 3, 4])\n",
        "\n",
        "print(ar[2] + ar[3])\n",
        "\n",
        "ar = np.array([[10,20,30,40,50], [60,70,80,90,100]])\n",
        "print('3rd element of 1st row: ', ar[0, 2])\n",
        "\n",
        "ar = np.array([[11,22,33,44,55], [66,77,88,99,100]])\n",
        "print('last element on 2nd row: ', ar[1, 4])"
      ],
      "metadata": {
        "colab": {
          "base_uri": "https://localhost:8080/"
        },
        "id": "Y3aHvPezxU_G",
        "outputId": "389be219-befa-4cd7-edb3-4d280de60b36"
      },
      "execution_count": null,
      "outputs": [
        {
          "output_type": "stream",
          "name": "stdout",
          "text": [
            "7\n",
            "3rd element of 1st row:  30\n",
            "last element on 2nd row:  100\n"
          ]
        }
      ]
    },
    {
      "cell_type": "code",
      "source": [
        "#slicing\n",
        "\n",
        "ar = np.array([1, 2, 3, 4, 5, 6, 7])\n",
        "\n",
        "print(ar[1:5])\n",
        "\n",
        "print(ar[4:])\n",
        "\n",
        "print(ar[:4])\n",
        "\n",
        "print(ar[-3:-1])\n",
        "\n",
        "print(ar[1:5:2])\n",
        "\n",
        "print(ar[::2])"
      ],
      "metadata": {
        "colab": {
          "base_uri": "https://localhost:8080/"
        },
        "id": "LPdVLlcaxrfn",
        "outputId": "c4edc26e-92b6-4823-cb8c-1ae1978d310f"
      },
      "execution_count": null,
      "outputs": [
        {
          "output_type": "stream",
          "name": "stdout",
          "text": [
            "[2 3 4 5]\n",
            "[5 6 7]\n",
            "[1 2 3 4]\n",
            "[5 6]\n",
            "[2 4]\n",
            "[1 3 5 7]\n"
          ]
        }
      ]
    },
    {
      "cell_type": "code",
      "source": [
        "ar = np.array([[1, 2, 3, 4, 5], [6, 7, 8, 9, 10]])\n",
        "print(ar[1, 2:5])\n",
        "\n",
        "\n",
        "ar = np.array([[1, 2, 3, 4, 5], [6, 7, 8, 9, 10]])\n",
        "print(ar[0:3, 1])\n",
        "\n",
        "\n",
        "print(ar[0:1, 2:3])"
      ],
      "metadata": {
        "colab": {
          "base_uri": "https://localhost:8080/"
        },
        "id": "GZetMihMyAUn",
        "outputId": "85fad931-9090-46f0-f7c6-af354de6f12f"
      },
      "execution_count": null,
      "outputs": [
        {
          "output_type": "stream",
          "name": "stdout",
          "text": [
            "[ 8  9 10]\n",
            "[2 7]\n",
            "[[3]]\n"
          ]
        }
      ]
    },
    {
      "cell_type": "code",
      "source": [
        "#array will not change\n",
        "arr = np.array([1, 2, 3, 4, 5])\n",
        "x = arr.copy()\n",
        "arr[0] = 17\n",
        "\n",
        "print(arr)\n",
        "print(x)\n",
        "\n",
        "\n",
        "#view will change the main array\n",
        "\n",
        "arr = np.array([10, 20, 30, 40, 50])\n",
        "x = arr.view()\n",
        "arr[0] = 25\n",
        "\n",
        "print(arr)\n",
        "print(x)"
      ],
      "metadata": {
        "colab": {
          "base_uri": "https://localhost:8080/"
        },
        "id": "911g5Z4cyL2v",
        "outputId": "5063169a-5fa0-46b9-daf3-82e6e556aba1"
      },
      "execution_count": null,
      "outputs": [
        {
          "output_type": "stream",
          "name": "stdout",
          "text": [
            "[17  2  3  4  5]\n",
            "[1 2 3 4 5]\n",
            "[25 20 30 40 50]\n",
            "[25 20 30 40 50]\n"
          ]
        }
      ]
    },
    {
      "cell_type": "code",
      "source": [
        "#1D\n",
        "arr = np.array([11, 22, 33, 44, 55])\n",
        "print(ar.shape)\n",
        "\n",
        "#2D\n",
        "arr = np.array([[10, 20, 30, 40], [50, 60, 70, 80]])\n",
        "print(ar.shape)\n",
        "\n",
        "#convert 1d to 2d\n",
        "arr = np.array([1, 2, 3, 4, 5, 6, 7, 8, 9, 10, 11, 12])\n",
        "new = arr.reshape(3,4)\n",
        "print(new)\n",
        "\n",
        "#convert 1d to 3d\n",
        "arr = np.array([1, 2, 3, 4, 5, 6, 7, 8, 9, 10, 11, 12])\n",
        "new = arr.reshape(2, 3, 2)\n",
        "print(new)"
      ],
      "metadata": {
        "colab": {
          "base_uri": "https://localhost:8080/"
        },
        "id": "xQS6mj73yuV_",
        "outputId": "3f2e47f9-7b64-422e-88f2-a41d4a237c62"
      },
      "execution_count": null,
      "outputs": [
        {
          "output_type": "stream",
          "name": "stdout",
          "text": [
            "(2, 5)\n",
            "(2, 5)\n",
            "[[ 1  2  3  4]\n",
            " [ 5  6  7  8]\n",
            " [ 9 10 11 12]]\n",
            "[[[ 1  2]\n",
            "  [ 3  4]\n",
            "  [ 5  6]]\n",
            "\n",
            " [[ 7  8]\n",
            "  [ 9 10]\n",
            "  [11 12]]]\n"
          ]
        }
      ]
    },
    {
      "cell_type": "code",
      "source": [
        "ar = np.array([11, 22, 33])\n",
        "\n",
        "for x in ar:\n",
        "  print(x)\n",
        "\n",
        "\n",
        "ar = np.array([[15, 25, 35], [45, 55, 65]])\n",
        "for x in ar:\n",
        "  print(x)\n",
        "\n",
        "\n",
        "ar = np.array([[10, 20, 30], [40, 50, 60]])\n",
        "for x in ar:\n",
        "  for y in x:\n",
        "    print(y)"
      ],
      "metadata": {
        "colab": {
          "base_uri": "https://localhost:8080/"
        },
        "id": "87qdZqcnzbSX",
        "outputId": "3bc783a0-f076-4958-ae72-159261859f7c"
      },
      "execution_count": null,
      "outputs": [
        {
          "output_type": "stream",
          "name": "stdout",
          "text": [
            "11\n",
            "22\n",
            "33\n",
            "[15 25 35]\n",
            "[45 55 65]\n",
            "10\n",
            "20\n",
            "30\n",
            "40\n",
            "50\n",
            "60\n"
          ]
        }
      ]
    },
    {
      "cell_type": "code",
      "source": [
        "ar1 = np.array([45, 22, 33])\n",
        "ar2 = np.array([41, 52, 63])\n",
        "arr = np.concatenate((ar1, ar2))\n",
        "print(arr)\n",
        "\n",
        "\n",
        "#printing in new row\n",
        "arr1 = np.array([[12, 21], [43, 45]])\n",
        "arr2 = np.array([[50, 61], [97, 18]])\n",
        "arr = np.concatenate((arr1, arr2), axis=1)\n",
        "\n",
        "print(arr)"
      ],
      "metadata": {
        "colab": {
          "base_uri": "https://localhost:8080/"
        },
        "id": "sQxBXUG6z6Gw",
        "outputId": "583a5d15-adab-4434-ea84-f25efd65fb34"
      },
      "execution_count": null,
      "outputs": [
        {
          "output_type": "stream",
          "name": "stdout",
          "text": [
            "[45 22 33 41 52 63]\n",
            "[[12 21 50 61]\n",
            " [43 45 97 18]]\n"
          ]
        }
      ]
    },
    {
      "cell_type": "code",
      "source": [
        "#sorting\n",
        "ar = np.array([12, 21, 4, 5])\n",
        "print(np.sort(ar))\n",
        "\n",
        "\n",
        "ar = np.array(['bus', 'train', 'cycle'])\n",
        "print(np.sort(ar))\n",
        "\n",
        "\n",
        "arr = np.array([[32, 42, 43], [55, 10, 11]])\n",
        "print(np.sort(arr))"
      ],
      "metadata": {
        "colab": {
          "base_uri": "https://localhost:8080/"
        },
        "id": "Wjehvw400gso",
        "outputId": "e46e2b3b-a704-4b91-c0ae-96e5f151f04e"
      },
      "execution_count": null,
      "outputs": [
        {
          "output_type": "stream",
          "name": "stdout",
          "text": [
            "[ 4  5 12 21]\n",
            "['bus' 'cycle' 'train']\n",
            "[[32 42 43]\n",
            " [10 11 55]]\n"
          ]
        }
      ]
    }
  ]
}