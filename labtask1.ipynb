{
  "nbformat": 4,
  "nbformat_minor": 0,
  "metadata": {
    "colab": {
      "provenance": [],
      "include_colab_link": true
    },
    "kernelspec": {
      "name": "python3",
      "display_name": "Python 3"
    },
    "language_info": {
      "name": "python"
    }
  },
  "cells": [
    {
      "cell_type": "markdown",
      "metadata": {
        "id": "view-in-github",
        "colab_type": "text"
      },
      "source": [
        "<a href=\"https://colab.research.google.com/github/tithinosrat/ai-lab/blob/main/labtask1.ipynb\" target=\"_parent\"><img src=\"https://colab.research.google.com/assets/colab-badge.svg\" alt=\"Open In Colab\"/></a>"
      ]
    },
    {
      "cell_type": "code",
      "execution_count": 1,
      "metadata": {
        "colab": {
          "base_uri": "https://localhost:8080/"
        },
        "id": "1Emv3i9ROEc7",
        "outputId": "b42da35e-ae52-401c-aa11-35b3135d2c18"
      },
      "outputs": [
        {
          "output_type": "stream",
          "name": "stdout",
          "text": [
            "['a', 'b', 'c', 'd', 'e', 'f', 'g']\n",
            "7\n",
            "<class 'list'>\n",
            "b\n",
            "g\n",
            "['c', 'd']\n",
            "['a', 'b', 'c']\n",
            "['e', 'f', 'g']\n"
          ]
        }
      ],
      "source": [
        "list = [\"a\", \"b\", \"c\", \"d\", \"e\", \"f\", \"g\"]\n",
        "\n",
        "print(list)\n",
        "print(len(list))\n",
        "print(type(list))\n",
        "print(list[1])\n",
        "print(list[-1])\n",
        "print(list[2:4])\n",
        "print(list[:3])\n",
        "print(list[4:])"
      ]
    },
    {
      "cell_type": "code",
      "source": [
        "lst = [\"m\", \"n\", \"0\"]\n",
        "lst[1] = \"p\"\n",
        "print(lst)\n",
        "\n",
        "lst.insert(2, \"q\")\n",
        "print(lst)\n",
        "\n",
        "lst.append(\"r\")\n",
        "print(lst)\n",
        "\n",
        "lst.remove(\"q\")\n",
        "print(lst)\n",
        "\n",
        "lst.sort()\n",
        "print(lst)\n",
        "\n",
        "list1 = lst.copy()\n",
        "print(list1)\n",
        "\n",
        "list2 = [\"x\", \"y\", \"z\"]\n",
        "list3 = [10, 20, 30]\n",
        "\n",
        "list4 = list2 + list3\n",
        "print(list4)"
      ],
      "metadata": {
        "colab": {
          "base_uri": "https://localhost:8080/"
        },
        "id": "le655Cq1OQfe",
        "outputId": "f03fd5ca-72a3-428d-965b-69446258e6e2"
      },
      "execution_count": 2,
      "outputs": [
        {
          "output_type": "stream",
          "name": "stdout",
          "text": [
            "['m', 'p', '0']\n",
            "['m', 'p', 'q', '0']\n",
            "['m', 'p', 'q', '0', 'r']\n",
            "['m', 'p', '0', 'r']\n",
            "['0', 'm', 'p', 'r']\n",
            "['0', 'm', 'p', 'r']\n",
            "['x', 'y', 'z', 10, 20, 30]\n"
          ]
        }
      ]
    },
    {
      "cell_type": "code",
      "source": [
        "x = (1, 2, 3, 4, 5, 6, 7, 8)\n",
        "y = slice(2, 4)\n",
        "print(x[y])\n",
        "\n",
        "y = slice(1, 2, 5)\n",
        "print(x[y])"
      ],
      "metadata": {
        "colab": {
          "base_uri": "https://localhost:8080/"
        },
        "id": "SVH-xHHAOVN1",
        "outputId": "5b88ca5e-299b-474e-d85d-d999cecae7a2"
      },
      "execution_count": 3,
      "outputs": [
        {
          "output_type": "stream",
          "name": "stdout",
          "text": [
            "(3, 4)\n",
            "(2,)\n"
          ]
        }
      ]
    },
    {
      "cell_type": "code",
      "source": [
        "f= open(\"xyz.txt\")\n",
        "f = open(\"xyz.txt\", \"r\")\n",
        "print(f.read())\n"
      ],
      "metadata": {
        "id": "eHi8TJBvOaKe",
        "colab": {
          "base_uri": "https://localhost:8080/"
        },
        "outputId": "8234c135-4675-422f-e0fb-990387617a53"
      },
      "execution_count": 5,
      "outputs": [
        {
          "output_type": "stream",
          "name": "stdout",
          "text": [
            "2123\n",
            "sadoi\n",
            "233\n"
          ]
        }
      ]
    },
    {
      "cell_type": "code",
      "source": [
        "f = open(\"xyz.txt\", \"a\")\n",
        "f.write(\"write\")\n",
        "f.close()\n",
        "\n",
        "\n",
        "f = open(\"xyz.txt\", \"r\")\n",
        "print(f.read())"
      ],
      "metadata": {
        "id": "Q3g3RN6NbAIz",
        "outputId": "870de210-079c-44a3-80de-f4bb261cb6ff",
        "colab": {
          "base_uri": "https://localhost:8080/"
        }
      },
      "execution_count": 6,
      "outputs": [
        {
          "output_type": "stream",
          "name": "stdout",
          "text": [
            "2123\n",
            "sadoi\n",
            "233\n",
            "4sad\n",
            "sawrite\n"
          ]
        }
      ]
    }
  ]
}